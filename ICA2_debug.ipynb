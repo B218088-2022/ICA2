{
 "cells": [
  {
   "cell_type": "code",
   "execution_count": 2,
   "id": "db120648",
   "metadata": {},
   "outputs": [],
   "source": [
    "import os\n",
    "import pandas as pd\n",
    "import subprocess\n",
    "import re\n",
    "import time\n",
    "from PIL import Image\n",
    "import matplotlib.pyplot as plt"
   ]
  },
  {
   "cell_type": "code",
   "execution_count": 3,
   "id": "bf2f3f81",
   "metadata": {},
   "outputs": [],
   "source": [
    "def identify():\n",
    "    while True:\n",
    "        protein_in = \"_\".join(input(\"please input your protein name\\n\\t\").split())\n",
    "        taxonomy_in = \"_\".join(input(\"please input the taxonomic group you want to analyse\\n\\t\").split())\n",
    "        if protein_in == \"\" or taxonomy_in == \"\":\n",
    "            print(\"\\n\\nYou missed at least one input, I CAN'T create something out of nothing ,sorry! Please try again!!!\\n\\n\")\n",
    "            continue\n",
    "        else:\n",
    "            break\n",
    "    return protein_in, taxonomy_in"
   ]
  },
  {
   "cell_type": "code",
   "execution_count": 4,
   "id": "ef78fec1",
   "metadata": {},
   "outputs": [],
   "source": [
    "# prepare a check function to see if the user want to continue or not, if user didn't input something right, notify user\n",
    "def check_continue(information = \"do you want to continue? \\n\\t\"):\n",
    "    while True:\n",
    "        user_info = input(information + \" [yes/no]\\n\\t\")\n",
    "        if user_info.upper().startswith(\"Y\"):\n",
    "            return True\n",
    "        elif user_info.upper().startswith(\"N\"):\n",
    "            return False\n",
    "        else: \n",
    "            print(\"\\n\\tyou didn't input correctly, please input 'yes' or 'no'! \\t\")"
   ]
  },
  {
   "cell_type": "code",
   "execution_count": 5,
   "id": "df34f0fc",
   "metadata": {},
   "outputs": [],
   "source": [
    "def download_file(protein_ask = \"pyruvate_dehydrogenase\", taxonomy_ask = \"ascomycete_fungi\"):\n",
    "    while True:\n",
    "        result_readable = subprocess.check_output(f\"esearch -db protein -query '{protein_ask}[Protein Name] AND {taxonomy_ask}[Organism]'\", shell = True).decode(\"utf-8\")\n",
    "        search_num = re.search(r\"<Count>(.*?)</Count>\", result_readable).group(1)\n",
    "        if int(search_num) >= 1000:\n",
    "            print(\"\\nSorry but there are too many sequences found based on your search criteria, which is hard to process, could you please try again?\\n\")\n",
    "            protein_ask, taxonomy_ask = identify()\n",
    "            continue\n",
    "        elif check_continue(f\"you have found {search_num} sequences, do you wanna continue?\"):\n",
    "            print(\"downloading...... in a second~\")\n",
    "            break\n",
    "        else:\n",
    "            print(\"Since you don't want to continue, you are going to exit in 3 seconds. See you next time~\")\n",
    "            time.sleep(3)\n",
    "            exit()\n",
    "    os.system(f\"esearch -db protein -query '{protein_ask}[Protein Name] AND {taxonomy_ask}[Organism]' | efetch -format fasta > {protein_ask}_{taxonomy_ask}.fa\")\n",
    "    return print(f\"\\n###{protein_ask}_{taxonomy_ask}.fa### has been successfully downloaded to your current working directory\")\n"
   ]
  },
  {
   "cell_type": "code",
   "execution_count": 6,
   "id": "4c7beeb3",
   "metadata": {},
   "outputs": [],
   "source": [
    "def pullseq(protein_name, taxonomy_name, n = 150):\n",
    "    os.system(f\"./pullseq -i {protein_name}_{taxonomy_name}_ori.fa -m {n}\")"
   ]
  },
  {
   "cell_type": "code",
   "execution_count": 7,
   "id": "1d1b9b2f",
   "metadata": {
    "scrolled": true
   },
   "outputs": [
    {
     "name": "stdout",
     "output_type": "stream",
     "text": [
      "please input your protein name\n",
      "\tpyruvate dehydrogenase\n",
      "please input the taxonomic group you want to analyse\n",
      "\tascomycete fungi\n"
     ]
    },
    {
     "name": "stderr",
     "output_type": "stream",
     "text": [
      "curl: (6) Could not resolve host: eutils.ncbi.nlm.nih.gov\n",
      " ERROR:  curl command failed ( Sat 19 Nov 14:07:27 GMT 2022 ) with: 6\n",
      "-X POST https://eutils.ncbi.nlm.nih.gov/entrez/eutils/esearch.fcgi -d retmax=0&usehistory=y&db=protein&term=pyruvate_dehydrogenase%5BProtein%20Name%5D%20AND%20ascomycete_fungi%20%5BOrganism%5D&tool=edirect&edirect=18.1&edirect_os=Linux&email=s2328491%40bioinfmsc8.bio.ed.ac.uk\n",
      " WARNING:  FAILURE ( Sat 19 Nov 14:07:27 GMT 2022 )\n",
      "nquire -url https://eutils.ncbi.nlm.nih.gov/entrez/eutils/ esearch.fcgi -retmax 0 -usehistory y -db protein -term \"pyruvate_dehydrogenase[Protein Name] AND ascomycete_fungi [Organism]\" -tool edirect -edirect 18.1 -edirect_os Linux -email s2328491@bioinfmsc8.bio.ed.ac.uk\n",
      "EMPTY RESULT\n",
      "SECOND ATTEMPT\n"
     ]
    },
    {
     "name": "stdout",
     "output_type": "stream",
     "text": [
      "you have found 232 sequences, do you wanna continue? [yes/no]\n",
      "\tyes\n",
      "downloading...... in a second~\n",
      "\n",
      "###pyruvate_dehydrogenase_ascomycete_fungi.fa### has been successfully downloaded to your current working directory\n"
     ]
    }
   ],
   "source": [
    "protein, taxonomy = identify()\n",
    "\n",
    "download_file(protein, taxonomy)"
   ]
  },
  {
   "cell_type": "code",
   "execution_count": null,
   "id": "16bdb902",
   "metadata": {},
   "outputs": [],
   "source": []
  },
  {
   "cell_type": "code",
   "execution_count": 18,
   "id": "6d86bb26",
   "metadata": {},
   "outputs": [],
   "source": [
    "file_fullname = f\"{protein}_{taxonomy}_ori.fa\""
   ]
  },
  {
   "cell_type": "code",
   "execution_count": 19,
   "id": "57c2d10d",
   "metadata": {},
   "outputs": [
    {
     "data": {
      "text/plain": [
       "'pyruvate_dehydrogenase_ascomycete_fungi_ori.fa'"
      ]
     },
     "execution_count": 19,
     "metadata": {},
     "output_type": "execute_result"
    }
   ],
   "source": [
    "file_fullname"
   ]
  },
  {
   "cell_type": "code",
   "execution_count": 8,
   "id": "f43b63ff",
   "metadata": {},
   "outputs": [
    {
     "name": "stdout",
     "output_type": "stream",
     "text": [
      "pyruvate_dehydrogenase ascomycete_fungi\n"
     ]
    }
   ],
   "source": [
    "print(protein, taxonomy)"
   ]
  },
  {
   "cell_type": "code",
   "execution_count": 8,
   "id": "737baacb",
   "metadata": {},
   "outputs": [],
   "source": [
    "with open(f\"{protein}_{taxonomy}.fa\") as my_file:\n",
    "    species = []\n",
    "    acc_nums = []\n",
    "    seqs = []\n",
    "    current_seq = \"\"\n",
    "    for file_line in my_file:\n",
    "        if file_line.startswith(\">\"):\n",
    "            if current_seq != \"\":\n",
    "                seqs.append(current_seq)\n",
    "            current_seq = \"\"\n",
    "            acc_num = re.search(r\">([^\\s]*)\", file_line)\n",
    "            if acc_num == None:\n",
    "                acc_num = \"-\"\n",
    "            else:\n",
    "                acc_num = acc_num.group(1)\n",
    "            organism = re.search(r\"\\[(.*)]\", file_line)\n",
    "            if organism == None:\n",
    "                organism = \"-\"\n",
    "            else:\n",
    "                organism = organism.group(1)\n",
    "            # 如果没有搜索到相应的内容，进行置空处理\n",
    "            acc_nums.append(acc_num)\n",
    "            species.append(organism)\n",
    "#         elif current_seq == \"\":\n",
    "#             current_seq = file_line.strip()\n",
    "        else:\n",
    "            current_seq += file_line.strip()\n",
    "    seqs.append(current_seq)"
   ]
  },
  {
   "cell_type": "code",
   "execution_count": 9,
   "id": "82a28738",
   "metadata": {},
   "outputs": [
    {
     "name": "stdout",
     "output_type": "stream",
     "text": [
      "\n",
      "...\n",
      "...\n",
      "There are 130 unduplicated species in the file you just downloaded, which are stored in a list, do you want to check them or just quit? [yes/no]\n",
      "\tyes\n",
      "Ambrosiozyma platypodis\n",
      "Ascobolus immersus RN42\n",
      "Ascodesmis nigricans\n",
      "Ascoidea rubescens DSM 1968\n",
      "Aspergillus aculeatinus CBS 121060\n",
      "Aspergillus arachidicola\n",
      "Aspergillus bombycis\n",
      "Aspergillus clavatus NRRL 1\n",
      "Aspergillus costaricaensis CBS 115574\n",
      "Aspergillus eucalypticola CBS 122712\n",
      "Aspergillus fischeri NRRL 181\n",
      "Aspergillus flavus\n",
      "Aspergillus fumigatus Z5\n",
      "Aspergillus heteromorphus CBS 117.55\n",
      "Aspergillus luchuensis\n",
      "Aspergillus luchuensis IFO 4308\n",
      "Aspergillus neoniger CBS 115656\n",
      "Aspergillus niger\n",
      "Aspergillus niger ATCC 13496\n",
      "Aspergillus niger CBS 101883\n",
      "Aspergillus niger CBS 513.88\n",
      "Aspergillus nomiae NRRL 13137\n",
      "Aspergillus novofumigatus IBT 16806\n",
      "Aspergillus phoenicis ATCC 13157\n",
      "Aspergillus piperis CBS 112811\n",
      "Aspergillus sclerotialis\n",
      "Aspergillus sclerotiicarbonarius CBS 121057\n",
      "Aspergillus sp. HF37\n",
      "Aspergillus steynii IBT 23096\n",
      "Aspergillus tubingensis\n",
      "Aspergillus ustus\n",
      "Aspergillus vadensis CBS 113365\n",
      "Aureobasidium namibiae CBS 147.97\n",
      "Barnettozyma salicaria\n",
      "Beauveria bassiana ARSEF 2860\n",
      "Beauveria bassiana D1-5\n",
      "Blastobotrys aristatus\n",
      "Candida parapsilosis\n",
      "Cenococcum geophilum 1.58\n",
      "Choiromyces venosus 120613-1\n",
      "Colletotrichum asianum\n",
      "Colletotrichum higginsianum\n",
      "Colletotrichum higginsianum IMI 349063\n",
      "Colletotrichum incanum\n",
      "Colletotrichum tofieldiae\n",
      "Colletotrichum truncatum\n",
      "Coniochaeta ligniaria NRRL 30616\n",
      "Coniochaeta sp. PMI_546\n",
      "Cordyceps javanica\n",
      "Cordyceps militaris\n",
      "Cyberlindnera jadinii NRRL Y-1542\n",
      "Cyberlindnera mississippiensis\n",
      "Daldinia caldariorum\n",
      "Decorospora gaudefroyi\n",
      "Didymosphaeria enalia\n",
      "Drechmeria coniospora\n",
      "Drepanopeziza brunnea f. sp. 'multigermtubi' MB_m1\n",
      "Fusarium culmorum\n",
      "Glonium stellatum\n",
      "Grosmannia clavigera kw1407\n",
      "Halenospora varia\n",
      "Hanseniaspora valbyensis NRRL Y-1626\n",
      "Histoplasma capsulatum\n",
      "Histoplasma capsulatum G186AR\n",
      "Histoplasma capsulatum H88\n",
      "Histoplasma ohiense (nom. inval.)\n",
      "Hypoxylon sp. EC38\n",
      "Hypoxylon sp. FL0543\n",
      "Hypoxylon sp. FL0890\n",
      "Hypoxylon sp. FL1857\n",
      "Hypoxylon sp. NC0597\n",
      "Kluyveromyces marxianus\n",
      "Kockiozyma suomiensis\n",
      "Lepidopterella palustris CBS 459.81\n",
      "Leptodontidium sp. MPI-SDFR-AT-0119\n",
      "Lindgomyces ingoldianus\n",
      "Lipomyces anomalus\n",
      "Lophium mytilinum\n",
      "Magnusiomyces tetraspermus\n",
      "Metarhizium anisopliae ARSEF 549\n",
      "Metarhizium brunneum ARSEF 3297\n",
      "Metarhizium guizhouense ARSEF 977\n",
      "Metarhizium majus ARSEF 297\n",
      "Metarhizium robertsii ARSEF 23\n",
      "Metschnikowia bicuspidata var. bicuspidata NRRL YB-4993\n",
      "Meyerozyma sp. JA9\n",
      "Mollisia scopiformis\n",
      "Morchella conica CCBAS932\n",
      "Myriangium duriaei CBS 260.36\n",
      "Nadsonia fulvescens\n",
      "Nakazawaea holstii\n",
      "Nemania abortiva\n",
      "Nemania serpens\n",
      "Ogataea salicorniae\n",
      "Ophiostoma piceae UAMH 11346\n",
      "Penicillium brasilianum\n",
      "Penicillium chrysogenum\n",
      "Penicillium rolfsii\n",
      "Penicillium ucsense\n",
      "Periconia macrospinosa\n",
      "Peterozyma xylosa\n",
      "Phaffomyces antillensis\n",
      "Pichia deserticola\n",
      "Pichia membranifaciens\n",
      "Pichia pseudocactophila\n",
      "Plectosphaerella cucumerina\n",
      "Plectosphaerella plurivora\n",
      "Polyplosphaeria fusca\n",
      "Saccharomycopsis javanensis\n",
      "Saitoella complicata NRRL Y-17804\n",
      "Sclerotinia borealis F-4128\n",
      "Spathaspora sp. JA1\n",
      "Sporothrix brasiliensis 5110\n",
      "Sporothrix insectorum RCEF 264\n",
      "Sporothrix schenckii 1099-18\n",
      "Starmera amethionina\n",
      "Talaromyces pinophilus\n",
      "Terfezia boudieri ATCC MYA-4762\n",
      "Thozetella sp. PMI_491\n",
      "Tolypocladium paradoxum\n",
      "Trematosphaeria pertusa\n",
      "Trichoderma citrinoviride\n",
      "Trichoderma lentiforme\n",
      "Trichoderma longibrachiatum ATCC 18648\n",
      "Tuber magnatum\n",
      "Wickerhamiella sorbophila\n",
      "Wickerhamomyces alni\n",
      "Wilcoxina mikolae CBS 423.85\n",
      "Xylona heveae TC161\n",
      "Yamadazyma tenuis ATCC 10573\n"
     ]
    }
   ],
   "source": [
    "seqlen = []\n",
    "i = 0\n",
    "for seq in seqs:\n",
    "    seqlen.append(len(seq))\n",
    "species_unrep_num = len(set(species))\n",
    "species_unrep = list(set(species))\n",
    "if check_continue(f\"\\n...\\n...\\nThere are {species_unrep_num} unduplicated species in the file you just downloaded, which are stored in a list, do you want to check them or just quit?\"):\n",
    "    for spe in sorted(species_unrep):\n",
    "        print(spe)\n",
    "else:    \n",
    "    print(\"Since you don't want to continue, you are going to exit in 3 seconds. See you next time~\")\n",
    "    time.sleep(3)\n",
    "    exit()"
   ]
  },
  {
   "cell_type": "code",
   "execution_count": 10,
   "id": "176f63f8",
   "metadata": {},
   "outputs": [
    {
     "name": "stdout",
     "output_type": "stream",
     "text": [
      "\n",
      "...\n",
      "...\n",
      "...\n",
      "All the data has been organized in a form, do you wanna generate a tsv file? [yes/no]\n",
      "\tyes\n",
      "\n",
      "tsv file named 'all_data_you_searched.tsv' has been generated in the current working dictionary\n"
     ]
    }
   ],
   "source": [
    "all_data = {\"Accession Number\": acc_nums, \"organisms\" : species, \"length of sequences\" : seqlen, \"Sequences\" : seqs}\n",
    "df_all_data = pd.DataFrame(all_data)\n",
    "if check_continue(\"\\n...\\n...\\n...\\nAll the data has been organized in a form, do you wanna generate a tsv file?\"):\n",
    "    df_all_data.to_csv(\"all_data_you_searched.tsv\", sep = '\\t', header = True)\n",
    "    print(\"\\ntsv file named 'all_data_you_searched.tsv' has been generated in the current working dictionary\")"
   ]
  },
  {
   "cell_type": "code",
   "execution_count": 13,
   "id": "fc388dd2",
   "metadata": {},
   "outputs": [
    {
     "data": {
      "text/html": [
       "<div>\n",
       "<style scoped>\n",
       "    .dataframe tbody tr th:only-of-type {\n",
       "        vertical-align: middle;\n",
       "    }\n",
       "\n",
       "    .dataframe tbody tr th {\n",
       "        vertical-align: top;\n",
       "    }\n",
       "\n",
       "    .dataframe thead th {\n",
       "        text-align: right;\n",
       "    }\n",
       "</style>\n",
       "<table border=\"1\" class=\"dataframe\">\n",
       "  <thead>\n",
       "    <tr style=\"text-align: right;\">\n",
       "      <th></th>\n",
       "      <th>Accession Number</th>\n",
       "      <th>organisms</th>\n",
       "      <th>length of sequences</th>\n",
       "      <th>Sequences</th>\n",
       "    </tr>\n",
       "  </thead>\n",
       "  <tbody>\n",
       "    <tr>\n",
       "      <th>147</th>\n",
       "      <td>AGO87542.1</td>\n",
       "      <td>Ambrosiozyma platypodis</td>\n",
       "      <td>132</td>\n",
       "      <td>FYGGNGIVGAQVPLGAGLAFAHHYRNNSNCTFTLYGDGAANQGQVF...</td>\n",
       "    </tr>\n",
       "    <tr>\n",
       "      <th>93</th>\n",
       "      <td>RPA75706.1</td>\n",
       "      <td>Ascobolus immersus RN42</td>\n",
       "      <td>500</td>\n",
       "      <td>MTVASLFTRAAARSATKSTVGKSILGSTVVTPSTIARPQLYASLLQ...</td>\n",
       "    </tr>\n",
       "    <tr>\n",
       "      <th>89</th>\n",
       "      <td>TGZ84763.1</td>\n",
       "      <td>Ascodesmis nigricans</td>\n",
       "      <td>426</td>\n",
       "      <td>MPALSPTMTAGNIGTWQKQPGDAINPGDVLVEIETDKAQMDFEFQE...</td>\n",
       "    </tr>\n",
       "    <tr>\n",
       "      <th>182</th>\n",
       "      <td>ODV59076.1</td>\n",
       "      <td>Ascoidea rubescens DSM 1968</td>\n",
       "      <td>512</td>\n",
       "      <td>MSAIALKSKSLNPLLKCSLPILKNSHSSQLFLKNSYNYLLLNKSFS...</td>\n",
       "    </tr>\n",
       "    <tr>\n",
       "      <th>171</th>\n",
       "      <td>XP_020045383.1</td>\n",
       "      <td>Ascoidea rubescens DSM 1968</td>\n",
       "      <td>512</td>\n",
       "      <td>MSAIALKSKSLNPLLKCSLPILKNSHSSQLFLKNSYNYLLLNKSFS...</td>\n",
       "    </tr>\n",
       "    <tr>\n",
       "      <th>...</th>\n",
       "      <td>...</td>\n",
       "      <td>...</td>\n",
       "      <td>...</td>\n",
       "      <td>...</td>\n",
       "    </tr>\n",
       "    <tr>\n",
       "      <th>51</th>\n",
       "      <td>KAF8242148.1</td>\n",
       "      <td>Wilcoxina mikolae CBS 423.85</td>\n",
       "      <td>418</td>\n",
       "      <td>MPALSPTMTAGNVGTWQKQPGDVLSPGDVLVEIETDKAQMDFEFQD...</td>\n",
       "    </tr>\n",
       "    <tr>\n",
       "      <th>198</th>\n",
       "      <td>KZF23348.1</td>\n",
       "      <td>Xylona heveae TC161</td>\n",
       "      <td>471</td>\n",
       "      <td>MSVATLLARGRRIILRNGPSLAALARCYASKSFPPHTVVSMPALSP...</td>\n",
       "    </tr>\n",
       "    <tr>\n",
       "      <th>181</th>\n",
       "      <td>XP_018188903.1</td>\n",
       "      <td>Xylona heveae TC161</td>\n",
       "      <td>471</td>\n",
       "      <td>MSVATLLARGRRIILRNGPSLAALARCYASKSFPPHTVVSMPALSP...</td>\n",
       "    </tr>\n",
       "    <tr>\n",
       "      <th>188</th>\n",
       "      <td>EGV65900.1</td>\n",
       "      <td>Yamadazyma tenuis ATCC 10573</td>\n",
       "      <td>462</td>\n",
       "      <td>MSLIGSTRTMALRIGSIPVTKRFMISSYQLARFYSSKFPNHVVINM...</td>\n",
       "    </tr>\n",
       "    <tr>\n",
       "      <th>84</th>\n",
       "      <td>XP_006684474.1</td>\n",
       "      <td>Yamadazyma tenuis ATCC 10573</td>\n",
       "      <td>462</td>\n",
       "      <td>MSLIGSTRTMALRIGSIPVTKRFMISSYQLARFYSSKFPNHVVINM...</td>\n",
       "    </tr>\n",
       "  </tbody>\n",
       "</table>\n",
       "<p>232 rows × 4 columns</p>\n",
       "</div>"
      ],
      "text/plain": [
       "    Accession Number                     organisms  length of sequences  \\\n",
       "147       AGO87542.1       Ambrosiozyma platypodis                  132   \n",
       "93        RPA75706.1       Ascobolus immersus RN42                  500   \n",
       "89        TGZ84763.1          Ascodesmis nigricans                  426   \n",
       "182       ODV59076.1   Ascoidea rubescens DSM 1968                  512   \n",
       "171   XP_020045383.1   Ascoidea rubescens DSM 1968                  512   \n",
       "..               ...                           ...                  ...   \n",
       "51      KAF8242148.1  Wilcoxina mikolae CBS 423.85                  418   \n",
       "198       KZF23348.1           Xylona heveae TC161                  471   \n",
       "181   XP_018188903.1           Xylona heveae TC161                  471   \n",
       "188       EGV65900.1  Yamadazyma tenuis ATCC 10573                  462   \n",
       "84    XP_006684474.1  Yamadazyma tenuis ATCC 10573                  462   \n",
       "\n",
       "                                             Sequences  \n",
       "147  FYGGNGIVGAQVPLGAGLAFAHHYRNNSNCTFTLYGDGAANQGQVF...  \n",
       "93   MTVASLFTRAAARSATKSTVGKSILGSTVVTPSTIARPQLYASLLQ...  \n",
       "89   MPALSPTMTAGNIGTWQKQPGDAINPGDVLVEIETDKAQMDFEFQE...  \n",
       "182  MSAIALKSKSLNPLLKCSLPILKNSHSSQLFLKNSYNYLLLNKSFS...  \n",
       "171  MSAIALKSKSLNPLLKCSLPILKNSHSSQLFLKNSYNYLLLNKSFS...  \n",
       "..                                                 ...  \n",
       "51   MPALSPTMTAGNVGTWQKQPGDVLSPGDVLVEIETDKAQMDFEFQD...  \n",
       "198  MSVATLLARGRRIILRNGPSLAALARCYASKSFPPHTVVSMPALSP...  \n",
       "181  MSVATLLARGRRIILRNGPSLAALARCYASKSFPPHTVVSMPALSP...  \n",
       "188  MSLIGSTRTMALRIGSIPVTKRFMISSYQLARFYSSKFPNHVVINM...  \n",
       "84   MSLIGSTRTMALRIGSIPVTKRFMISSYQLARFYSSKFPNHVVINM...  \n",
       "\n",
       "[232 rows x 4 columns]"
      ]
     },
     "execution_count": 13,
     "metadata": {},
     "output_type": "execute_result"
    }
   ],
   "source": [
    "df_all_data.sort_values('organisms', ascending = True, inplace = True)\n",
    "df_all_data"
   ]
  },
  {
   "cell_type": "code",
   "execution_count": 34,
   "id": "a5d1a4f1",
   "metadata": {},
   "outputs": [
    {
     "name": "stdout",
     "output_type": "stream",
     "text": [
      "\n",
      "...\n",
      "...\n",
      "...\n",
      "All the data has been organized in a form, do you wanna generate a tsv file? [yes/no]\n",
      "\tyes\n",
      "\n",
      "tsv file named 'all_data_you_searched.tsv' has been generated in the current working dictionary\n"
     ]
    }
   ],
   "source": [
    "if check_continue(\"\\n...\\n...\\n...\\nAll the data has been organized in a form, do you wanna generate a tsv file?\"):\n",
    "    df_all_data.to_csv(\"all_data_you_searched.tsv\", sep = '\\t', header = True)\n",
    "    print(\"\\ntsv file named 'all_data_you_searched.tsv' has been generated in the current working dictionary\")\n",
    "    "
   ]
  },
  {
   "cell_type": "code",
   "execution_count": 47,
   "id": "175827a9",
   "metadata": {},
   "outputs": [],
   "source": [
    "protein =\"pyruvate_dehydrogenase\"\n",
    "taxonomy = \"ascomycete_fungi\"\n",
    "winsize = 4"
   ]
  },
  {
   "cell_type": "code",
   "execution_count": 45,
   "id": "b1da7f7b",
   "metadata": {},
   "outputs": [
    {
     "data": {
      "text/plain": [
       "0"
      ]
     },
     "execution_count": 45,
     "metadata": {},
     "output_type": "execute_result"
    }
   ],
   "source": [
    "os.system(f\"clustalo -i {protein}_{taxonomy}.fa -o {protein}_{taxonomy}_aligned.fa --distmat-out={protein}_{taxonomy}_distmat.mat --full\")"
   ]
  },
  {
   "cell_type": "code",
   "execution_count": 48,
   "id": "e8bbd2d8",
   "metadata": {},
   "outputs": [
    {
     "name": "stderr",
     "output_type": "stream",
     "text": [
      "Plot conservation of a sequence alignment\n"
     ]
    },
    {
     "name": "stdout",
     "output_type": "stream",
     "text": [
      "Created plotcon.1.png\n"
     ]
    },
    {
     "data": {
      "text/plain": [
       "0"
      ]
     },
     "execution_count": 48,
     "metadata": {},
     "output_type": "execute_result"
    }
   ],
   "source": [
    "os.system(f\"plotcon {protein}_{taxonomy}_aligned.fa -winsize {winsize} -graph png\")"
   ]
  },
  {
   "cell_type": "code",
   "execution_count": 53,
   "id": "709e4a3b",
   "metadata": {},
   "outputs": [
    {
     "name": "stderr",
     "output_type": "stream",
     "text": [
      "Unable to init server: Could not connect: Connection refused\n",
      "\n",
      "(eog:3906508): Gtk-WARNING **: 02:02:06.141: cannot open display: \n"
     ]
    }
   ],
   "source": [
    "image = Image.open(\"plotcon.1.png\")\n",
    "image.show()"
   ]
  },
  {
   "cell_type": "code",
   "execution_count": 16,
   "id": "09965bea",
   "metadata": {},
   "outputs": [
    {
     "data": {
      "text/plain": [
       "232"
      ]
     },
     "execution_count": 16,
     "metadata": {},
     "output_type": "execute_result"
    }
   ],
   "source": [
    "len(seqlen)\n"
   ]
  },
  {
   "cell_type": "code",
   "execution_count": 17,
   "id": "fce5d7b8",
   "metadata": {},
   "outputs": [
    {
     "name": "stderr",
     "output_type": "stream",
     "text": [
      "Scan a protein sequence with motifs from the PROSITE database\n",
      "Input protein sequence: Error: Unable to get reply from user - end of standard input\n"
     ]
    },
    {
     "data": {
      "text/plain": [
       "256"
      ]
     },
     "execution_count": 17,
     "metadata": {},
     "output_type": "execute_result"
    }
   ],
   "source": [
    "os.system(\"patmatmotifs\")"
   ]
  }
 ],
 "metadata": {
  "kernelspec": {
   "display_name": "Python 3 (ipykernel)",
   "language": "python",
   "name": "python3"
  },
  "language_info": {
   "codemirror_mode": {
    "name": "ipython",
    "version": 3
   },
   "file_extension": ".py",
   "mimetype": "text/x-python",
   "name": "python",
   "nbconvert_exporter": "python",
   "pygments_lexer": "ipython3",
   "version": "3.8.10"
  }
 },
 "nbformat": 4,
 "nbformat_minor": 5
}
