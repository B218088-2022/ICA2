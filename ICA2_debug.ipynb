{
 "cells": [
  {
   "cell_type": "code",
   "execution_count": 22,
   "id": "db120648",
   "metadata": {},
   "outputs": [],
   "source": [
    "import os\n",
    "import pandas as pd\n",
    "import subprocess\n",
    "import re\n",
    "import time\n"
   ]
  },
  {
   "cell_type": "code",
   "execution_count": 23,
   "id": "bf2f3f81",
   "metadata": {},
   "outputs": [],
   "source": [
    "def identify():\n",
    "    while True:\n",
    "        protein_in = \"_\".join(input(\"please input your protein name\\n\\t\").split())\n",
    "        taxonomy_in = \"_\".join(input(\"please input the taxonomic group you want to analyse\\n\\t\").split())\n",
    "        if protein_in == \"\" or taxonomy_in == \"\":\n",
    "            print(\"\\n\\nYou missed at least one input, I CAN'T create something out of nothing ,sorry! Please try again!!!\\n\\n\")\n",
    "            continue\n",
    "        else:\n",
    "            break\n",
    "    return protein_in, taxonomy_in"
   ]
  },
  {
   "cell_type": "code",
   "execution_count": 24,
   "id": "ef78fec1",
   "metadata": {},
   "outputs": [],
   "source": [
    "# prepare a check function to see if the user want to continue or not, if user didn't input something right, notify user\n",
    "def check_continue(information = \"do you want to continue? \\n\\t\"):\n",
    "    while True:\n",
    "        user_info = input(information + \" [yes/no]\\n\\t\")\n",
    "        if user_info.upper().startswith(\"Y\"):\n",
    "            return True\n",
    "        elif user_info.upper().startswith(\"N\"):\n",
    "            return False\n",
    "        else: \n",
    "            print(\"\\n\\tyou didn't input correctly, please input 'yes' or 'no'! \\t\")"
   ]
  },
  {
   "cell_type": "code",
   "execution_count": 38,
   "id": "df34f0fc",
   "metadata": {},
   "outputs": [],
   "source": [
    "def download_file(protein_ask = \"pyruvate_dehydrogenase\", taxonomy_ask = \"ascomycete_fungi\"):\n",
    "    while True:\n",
    "        result_readable = subprocess.check_output(f\"esearch -db protein -query '{protein_ask}[Protein Name] AND {taxonomy_ask}[Organism]'\", shell = True).decode(\"utf-8\")\n",
    "        search_num = re.search(r\"<Count>(.*?)</Count>\", result_readable).group(1)\n",
    "        if int(search_num) >= 1000:\n",
    "            print(\"\\nSorry but there are too many sequences found based on your search criteria, which is hard to process, could you please try again?\\n\")\n",
    "            protein_ask, taxonomy_ask = identify()\n",
    "            continue\n",
    "        elif check_continue(f\"you have found {search_num} sequences, do you wanna continue?\"):\n",
    "            print(\"downloading...... in a second~\")\n",
    "            break\n",
    "        else:\n",
    "            print(\"Since you don't want to continue, you are going to exit in 3 seconds. See you next time~\")\n",
    "            time.sleep(3)\n",
    "            exit()\n",
    "    os.system(f\"esearch -db protein -query '{protein_ask}[Protein Name] AND {taxonomy_ask}[Organism]' | efetch -format fasta > {protein_ask}_{taxonomy_ask}.fa\")\n",
    "    return print(f\"\\n###{protein_ask}_{taxonomy_ask}.fa### has been successfully downloaded to your current working directory\")\n"
   ]
  },
  {
   "cell_type": "code",
   "execution_count": 39,
   "id": "1d1b9b2f",
   "metadata": {
    "scrolled": true
   },
   "outputs": [
    {
     "name": "stdout",
     "output_type": "stream",
     "text": [
      "please input your protein name\n",
      "\tdehydrogenase\n",
      "please input the taxonomic group you want to analyse\n",
      "\tfungi\n",
      "\n",
      "Sorry but there are too many sequences found based on your search criteria, which is hard to process, could you please try again?\n",
      "\n",
      "please input your protein name\n",
      "\tpyruvate_dehydrogenase\n",
      "please input the taxonomic group you want to analyse\n",
      "\tascomycete_fungi\n",
      "you have found 232 sequences, do you wanna continue? [yes/no]\n",
      "\tyes\n",
      "downloading...... in a second~\n",
      "\n",
      "###pyruvate_dehydrogenase_ascomycete_fungi.fa### has been successfully downloaded to your current working directory\n"
     ]
    }
   ],
   "source": [
    "protein, taxonomy = identify()\n",
    "\n",
    "download_file(protein, taxonomy)"
   ]
  },
  {
   "cell_type": "code",
   "execution_count": 14,
   "id": "f43b63ff",
   "metadata": {},
   "outputs": [
    {
     "name": "stdout",
     "output_type": "stream",
     "text": [
      "ascomycete_fungi pyruvate_dehydrogenase\n"
     ]
    }
   ],
   "source": [
    "print(protein, taxonomy)"
   ]
  },
  {
   "cell_type": "code",
   "execution_count": 8,
   "id": "737baacb",
   "metadata": {},
   "outputs": [],
   "source": [
    "with open(f\"{protein}_{taxonomy}.fa\") as my_file:\n",
    "    species = []\n",
    "    acc_nums = []\n",
    "    seqs = []\n",
    "    current_seq = \"\"\n",
    "    for file_line in my_file:\n",
    "        if file_line.startswith(\">\"):\n",
    "            if current_seq != \"\":\n",
    "                seqs.append(current_seq)\n",
    "            current_seq = \"\"\n",
    "            acc_num = re.search(r\">([^\\s]*)\", file_line)\n",
    "            if acc_num == None:\n",
    "                acc_num = \"-\"\n",
    "            else:\n",
    "                acc_num = acc_num.group(1)\n",
    "            organism = re.search(r\"\\[(.*)]\", file_line)\n",
    "            if organism == None:\n",
    "                organism = \"-\"\n",
    "            else:\n",
    "                organism = organism.group(1)\n",
    "            # 如果没有搜索到相应的内容，进行置空处理\n",
    "            acc_nums.append(acc_num)\n",
    "            species.append(organism)\n",
    "#         elif current_seq == \"\":\n",
    "#             current_seq = file_line.strip()\n",
    "        else:\n",
    "            current_seq += file_line.strip()\n",
    "    seqs.append(current_seq)"
   ]
  },
  {
   "cell_type": "code",
   "execution_count": 19,
   "id": "82a28738",
   "metadata": {},
   "outputs": [],
   "source": [
    "seqlen = []\n",
    "i = 0\n",
    "for seq in seqs:\n",
    "    seqlen.append(len(seq))\n",
    "species_unrep_num = len(set(species))\n",
    "species_unrep = list(set(species))\n",
    "\n"
   ]
  },
  {
   "cell_type": "code",
   "execution_count": 42,
   "id": "f1c004bb",
   "metadata": {},
   "outputs": [
    {
     "name": "stdout",
     "output_type": "stream",
     "text": [
      "['Ambrosiozyma platypodis', 'Ascobolus immersus RN42', 'Ascodesmis nigricans', 'Ascoidea rubescens DSM 1968', 'Aspergillus aculeatinus CBS 121060', 'Aspergillus arachidicola', 'Aspergillus bombycis', 'Aspergillus clavatus NRRL 1', 'Aspergillus costaricaensis CBS 115574', 'Aspergillus eucalypticola CBS 122712', 'Aspergillus fischeri NRRL 181', 'Aspergillus flavus', 'Aspergillus fumigatus Z5', 'Aspergillus heteromorphus CBS 117.55', 'Aspergillus luchuensis', 'Aspergillus luchuensis IFO 4308', 'Aspergillus neoniger CBS 115656', 'Aspergillus niger', 'Aspergillus niger ATCC 13496', 'Aspergillus niger CBS 101883', 'Aspergillus niger CBS 513.88', 'Aspergillus nomiae NRRL 13137', 'Aspergillus novofumigatus IBT 16806', 'Aspergillus phoenicis ATCC 13157', 'Aspergillus piperis CBS 112811', 'Aspergillus sclerotialis', 'Aspergillus sclerotiicarbonarius CBS 121057', 'Aspergillus sp. HF37', 'Aspergillus steynii IBT 23096', 'Aspergillus tubingensis', 'Aspergillus ustus', 'Aspergillus vadensis CBS 113365', 'Aureobasidium namibiae CBS 147.97', 'Barnettozyma salicaria', 'Beauveria bassiana ARSEF 2860', 'Beauveria bassiana D1-5', 'Blastobotrys aristatus', 'Candida parapsilosis', 'Cenococcum geophilum 1.58', 'Choiromyces venosus 120613-1', 'Colletotrichum asianum', 'Colletotrichum higginsianum', 'Colletotrichum higginsianum IMI 349063', 'Colletotrichum incanum', 'Colletotrichum tofieldiae', 'Colletotrichum truncatum', 'Coniochaeta ligniaria NRRL 30616', 'Coniochaeta sp. PMI_546', 'Cordyceps javanica', 'Cordyceps militaris', 'Cyberlindnera jadinii NRRL Y-1542', 'Cyberlindnera mississippiensis', 'Daldinia caldariorum', 'Decorospora gaudefroyi', 'Didymosphaeria enalia', 'Drechmeria coniospora', \"Drepanopeziza brunnea f. sp. 'multigermtubi' MB_m1\", 'Fusarium culmorum', 'Glonium stellatum', 'Grosmannia clavigera kw1407', 'Halenospora varia', 'Hanseniaspora valbyensis NRRL Y-1626', 'Histoplasma capsulatum', 'Histoplasma capsulatum G186AR', 'Histoplasma capsulatum H88', 'Histoplasma ohiense (nom. inval.)', 'Hypoxylon sp. EC38', 'Hypoxylon sp. FL0543', 'Hypoxylon sp. FL0890', 'Hypoxylon sp. FL1857', 'Hypoxylon sp. NC0597', 'Kluyveromyces marxianus', 'Kockiozyma suomiensis', 'Lepidopterella palustris CBS 459.81', 'Leptodontidium sp. MPI-SDFR-AT-0119', 'Lindgomyces ingoldianus', 'Lipomyces anomalus', 'Lophium mytilinum', 'Magnusiomyces tetraspermus', 'Metarhizium anisopliae ARSEF 549', 'Metarhizium brunneum ARSEF 3297', 'Metarhizium guizhouense ARSEF 977', 'Metarhizium majus ARSEF 297', 'Metarhizium robertsii ARSEF 23', 'Metschnikowia bicuspidata var. bicuspidata NRRL YB-4993', 'Meyerozyma sp. JA9', 'Mollisia scopiformis', 'Morchella conica CCBAS932', 'Myriangium duriaei CBS 260.36', 'Nadsonia fulvescens', 'Nakazawaea holstii', 'Nemania abortiva', 'Nemania serpens', 'Ogataea salicorniae', 'Ophiostoma piceae UAMH 11346', 'Penicillium brasilianum', 'Penicillium chrysogenum', 'Penicillium rolfsii', 'Penicillium ucsense', 'Periconia macrospinosa', 'Peterozyma xylosa', 'Phaffomyces antillensis', 'Pichia deserticola', 'Pichia membranifaciens', 'Pichia pseudocactophila', 'Plectosphaerella cucumerina', 'Plectosphaerella plurivora', 'Polyplosphaeria fusca', 'Saccharomycopsis javanensis', 'Saitoella complicata NRRL Y-17804', 'Sclerotinia borealis F-4128', 'Spathaspora sp. JA1', 'Sporothrix brasiliensis 5110', 'Sporothrix insectorum RCEF 264', 'Sporothrix schenckii 1099-18', 'Starmera amethionina', 'Talaromyces pinophilus', 'Terfezia boudieri ATCC MYA-4762', 'Thozetella sp. PMI_491', 'Tolypocladium paradoxum', 'Trematosphaeria pertusa', 'Trichoderma citrinoviride', 'Trichoderma lentiforme', 'Trichoderma longibrachiatum ATCC 18648', 'Tuber magnatum', 'Wickerhamiella sorbophila', 'Wickerhamomyces alni', 'Wilcoxina mikolae CBS 423.85', 'Xylona heveae TC161', 'Yamadazyma tenuis ATCC 10573']\n"
     ]
    }
   ],
   "source": [
    "print(f\"{sorted(species_unrep)}\")\n",
    "\n"
   ]
  },
  {
   "cell_type": "code",
   "execution_count": 31,
   "id": "c9748f1d",
   "metadata": {},
   "outputs": [],
   "source": [
    "all_data = {\"Accession Number\": acc_nums, \"organisms\" : species, \"length of sequences\" : seqlen, \"Sequences\" : seqs}\n",
    "df_all_data = pd.DataFrame(all_data)"
   ]
  },
  {
   "cell_type": "code",
   "execution_count": 32,
   "id": "fc388dd2",
   "metadata": {},
   "outputs": [
    {
     "data": {
      "text/html": [
       "<div>\n",
       "<style scoped>\n",
       "    .dataframe tbody tr th:only-of-type {\n",
       "        vertical-align: middle;\n",
       "    }\n",
       "\n",
       "    .dataframe tbody tr th {\n",
       "        vertical-align: top;\n",
       "    }\n",
       "\n",
       "    .dataframe thead th {\n",
       "        text-align: right;\n",
       "    }\n",
       "</style>\n",
       "<table border=\"1\" class=\"dataframe\">\n",
       "  <thead>\n",
       "    <tr style=\"text-align: right;\">\n",
       "      <th></th>\n",
       "      <th>Accession Number</th>\n",
       "      <th>organisms</th>\n",
       "      <th>length of sequences</th>\n",
       "      <th>Sequences</th>\n",
       "    </tr>\n",
       "  </thead>\n",
       "  <tbody>\n",
       "    <tr>\n",
       "      <th>0</th>\n",
       "      <td>KAI5905415.1</td>\n",
       "      <td>Candida parapsilosis</td>\n",
       "      <td>597</td>\n",
       "      <td>MLSTRPKFLYLTNKQLQTISKRLISSTSKTSVNSSKLLNLSKTFFR...</td>\n",
       "    </tr>\n",
       "    <tr>\n",
       "      <th>1</th>\n",
       "      <td>GJP90915.1</td>\n",
       "      <td>Aspergillus niger</td>\n",
       "      <td>517</td>\n",
       "      <td>MLTSLGGARTRLLRVPTTSPIRHQGLVPRNQNHTRHSHSYYSTKGA...</td>\n",
       "    </tr>\n",
       "    <tr>\n",
       "      <th>2</th>\n",
       "      <td>GJP95986.1</td>\n",
       "      <td>Aspergillus niger</td>\n",
       "      <td>400</td>\n",
       "      <td>MLTRSLRPKGTLRWTRPGLPYRRCLAHVSNVSDLPTEENKPFSVPI...</td>\n",
       "    </tr>\n",
       "    <tr>\n",
       "      <th>3</th>\n",
       "      <td>GAM43544.1</td>\n",
       "      <td>Talaromyces pinophilus</td>\n",
       "      <td>423</td>\n",
       "      <td>MMLSICAARLRTRLGRVPASIFRTQTKRSLSTGKPTSNSKLYVAIA...</td>\n",
       "    </tr>\n",
       "    <tr>\n",
       "      <th>4</th>\n",
       "      <td>GJC93706.1</td>\n",
       "      <td>Colletotrichum higginsianum</td>\n",
       "      <td>426</td>\n",
       "      <td>MAFYEQRYLETGVGLGRLMVFGRSLTESRLLSSANYVRTELPTRIA...</td>\n",
       "    </tr>\n",
       "    <tr>\n",
       "      <th>...</th>\n",
       "      <td>...</td>\n",
       "      <td>...</td>\n",
       "      <td>...</td>\n",
       "      <td>...</td>\n",
       "    </tr>\n",
       "    <tr>\n",
       "      <th>227</th>\n",
       "      <td>KGQ11384.1</td>\n",
       "      <td>Beauveria bassiana D1-5</td>\n",
       "      <td>573</td>\n",
       "      <td>MKQSVAAWLAKTLESAGVKRIWGVTGDSLNGLSDSLNRMGTIKWMP...</td>\n",
       "    </tr>\n",
       "    <tr>\n",
       "      <th>228</th>\n",
       "      <td>XP_008602215.1</td>\n",
       "      <td>Beauveria bassiana ARSEF 2860</td>\n",
       "      <td>478</td>\n",
       "      <td>MFPRRVVLTRTYSSVTLQRQLRKFASKNLSPLAPGINKGLRYTAIA...</td>\n",
       "    </tr>\n",
       "    <tr>\n",
       "      <th>229</th>\n",
       "      <td>XP_008593908.1</td>\n",
       "      <td>Beauveria bassiana ARSEF 2860</td>\n",
       "      <td>417</td>\n",
       "      <td>MASVLQHSDDDVRHVLSQDAHSVSLHTLGVKRVDAAQLPANNPCED...</td>\n",
       "    </tr>\n",
       "    <tr>\n",
       "      <th>230</th>\n",
       "      <td>XP_001399196.2</td>\n",
       "      <td>Aspergillus niger CBS 513.88</td>\n",
       "      <td>544</td>\n",
       "      <td>MLIFNLTFAAPSTATNHLIYTTISLVPPMFTSFGGARTRLLRVPTT...</td>\n",
       "    </tr>\n",
       "    <tr>\n",
       "      <th>231</th>\n",
       "      <td>XP_001272711.1</td>\n",
       "      <td>Aspergillus clavatus NRRL 1</td>\n",
       "      <td>347</td>\n",
       "      <td>MLSKSLRYRGSLRRMCPVLSCTDRRFMAQVADVRNIPTEDDKLFNV...</td>\n",
       "    </tr>\n",
       "  </tbody>\n",
       "</table>\n",
       "<p>232 rows × 4 columns</p>\n",
       "</div>"
      ],
      "text/plain": [
       "    Accession Number                      organisms  length of sequences  \\\n",
       "0       KAI5905415.1           Candida parapsilosis                  597   \n",
       "1         GJP90915.1              Aspergillus niger                  517   \n",
       "2         GJP95986.1              Aspergillus niger                  400   \n",
       "3         GAM43544.1         Talaromyces pinophilus                  423   \n",
       "4         GJC93706.1    Colletotrichum higginsianum                  426   \n",
       "..               ...                            ...                  ...   \n",
       "227       KGQ11384.1        Beauveria bassiana D1-5                  573   \n",
       "228   XP_008602215.1  Beauveria bassiana ARSEF 2860                  478   \n",
       "229   XP_008593908.1  Beauveria bassiana ARSEF 2860                  417   \n",
       "230   XP_001399196.2   Aspergillus niger CBS 513.88                  544   \n",
       "231   XP_001272711.1    Aspergillus clavatus NRRL 1                  347   \n",
       "\n",
       "                                             Sequences  \n",
       "0    MLSTRPKFLYLTNKQLQTISKRLISSTSKTSVNSSKLLNLSKTFFR...  \n",
       "1    MLTSLGGARTRLLRVPTTSPIRHQGLVPRNQNHTRHSHSYYSTKGA...  \n",
       "2    MLTRSLRPKGTLRWTRPGLPYRRCLAHVSNVSDLPTEENKPFSVPI...  \n",
       "3    MMLSICAARLRTRLGRVPASIFRTQTKRSLSTGKPTSNSKLYVAIA...  \n",
       "4    MAFYEQRYLETGVGLGRLMVFGRSLTESRLLSSANYVRTELPTRIA...  \n",
       "..                                                 ...  \n",
       "227  MKQSVAAWLAKTLESAGVKRIWGVTGDSLNGLSDSLNRMGTIKWMP...  \n",
       "228  MFPRRVVLTRTYSSVTLQRQLRKFASKNLSPLAPGINKGLRYTAIA...  \n",
       "229  MASVLQHSDDDVRHVLSQDAHSVSLHTLGVKRVDAAQLPANNPCED...  \n",
       "230  MLIFNLTFAAPSTATNHLIYTTISLVPPMFTSFGGARTRLLRVPTT...  \n",
       "231  MLSKSLRYRGSLRRMCPVLSCTDRRFMAQVADVRNIPTEDDKLFNV...  \n",
       "\n",
       "[232 rows x 4 columns]"
      ]
     },
     "execution_count": 32,
     "metadata": {},
     "output_type": "execute_result"
    }
   ],
   "source": [
    "df_all_data"
   ]
  },
  {
   "cell_type": "code",
   "execution_count": 34,
   "id": "d206e559",
   "metadata": {},
   "outputs": [
    {
     "name": "stdout",
     "output_type": "stream",
     "text": [
      "\n",
      "...\n",
      "...\n",
      "...\n",
      "All the data has been organized in a form, do you wanna generate a tsv file? [yes/no]\n",
      "\tyes\n",
      "\n",
      "tsv file named 'all_data_you_searched.tsv' has been generated in the current working dictionary\n"
     ]
    }
   ],
   "source": [
    "if check_continue(\"\\n...\\n...\\n...\\nAll the data has been organized in a form, do you wanna generate a tsv file?\"):\n",
    "    df_all_data.to_csv(\"all_data_you_searched.tsv\", sep = '\\t', header = True)\n",
    "    print(\"\\ntsv file named 'all_data_you_searched.tsv' has been generated in the current working dictionary\")\n",
    "    "
   ]
  },
  {
   "cell_type": "code",
   "execution_count": 33,
   "id": "742a9882",
   "metadata": {},
   "outputs": [],
   "source": [
    "df_all_data.to_csv(\"all_data_you_searched.tsv\", sep = '\\t', header = True)"
   ]
  },
  {
   "cell_type": "code",
   "execution_count": 16,
   "id": "09965bea",
   "metadata": {},
   "outputs": [
    {
     "data": {
      "text/plain": [
       "232"
      ]
     },
     "execution_count": 16,
     "metadata": {},
     "output_type": "execute_result"
    }
   ],
   "source": [
    "len(seqlen)\n"
   ]
  },
  {
   "cell_type": "code",
   "execution_count": 17,
   "id": "fce5d7b8",
   "metadata": {},
   "outputs": [
    {
     "name": "stderr",
     "output_type": "stream",
     "text": [
      "Scan a protein sequence with motifs from the PROSITE database\n",
      "Input protein sequence: Error: Unable to get reply from user - end of standard input\n"
     ]
    },
    {
     "data": {
      "text/plain": [
       "256"
      ]
     },
     "execution_count": 17,
     "metadata": {},
     "output_type": "execute_result"
    }
   ],
   "source": [
    "os.system(\"patmatmotifs\")"
   ]
  }
 ],
 "metadata": {
  "kernelspec": {
   "display_name": "Python 3 (ipykernel)",
   "language": "python",
   "name": "python3"
  },
  "language_info": {
   "codemirror_mode": {
    "name": "ipython",
    "version": 3
   },
   "file_extension": ".py",
   "mimetype": "text/x-python",
   "name": "python",
   "nbconvert_exporter": "python",
   "pygments_lexer": "ipython3",
   "version": "3.8.10"
  }
 },
 "nbformat": 4,
 "nbformat_minor": 5
}
